{
  "nbformat": 4,
  "nbformat_minor": 0,
  "metadata": {
    "colab": {
      "provenance": [],
      "authorship_tag": "ABX9TyO+eTeEGe/XbDdc7tFzOQMf",
      "include_colab_link": true
    },
    "kernelspec": {
      "name": "python3",
      "display_name": "Python 3"
    },
    "language_info": {
      "name": "python"
    }
  },
  "cells": [
    {
      "cell_type": "markdown",
      "metadata": {
        "id": "view-in-github",
        "colab_type": "text"
      },
      "source": [
        "<a href=\"https://colab.research.google.com/github/piotersen77/python-ciencia-datos/blob/main/Clase_01.ipynb\" target=\"_parent\"><img src=\"https://colab.research.google.com/assets/colab-badge.svg\" alt=\"Open In Colab\"/></a>"
      ]
    },
    {
      "cell_type": "code",
      "execution_count": 21,
      "metadata": {
        "colab": {
          "base_uri": "https://localhost:8080/"
        },
        "id": "xVKOCPMZQMbe",
        "outputId": "be872b01-7abe-4934-a7c8-f7a78e5119e5"
      },
      "outputs": [
        {
          "output_type": "stream",
          "name": "stdout",
          "text": [
            "Ingrese un número5\n",
            "es 5\n",
            "Siguiente Instrucción\n"
          ]
        }
      ],
      "source": [
        "num = int(input(\"Ingrese un número\"))\n",
        "if(num==5):\n",
        "  print('es 5')\n",
        "  print('Siguiente Instrucción')"
      ]
    },
    {
      "cell_type": "code",
      "source": [
        "if num%2==0:\n",
        "  print(f'{num} es par')\n",
        "else:\n",
        "  print(f'{num} es impar')"
      ],
      "metadata": {
        "colab": {
          "base_uri": "https://localhost:8080/"
        },
        "id": "6QxOCPEEXmzy",
        "outputId": "b00c8e6e-54c6-410f-9b57-98f89f3d063d"
      },
      "execution_count": 24,
      "outputs": [
        {
          "output_type": "stream",
          "name": "stdout",
          "text": [
            "5 es impar\n"
          ]
        }
      ]
    }
  ]
}